{
 "cells": [
  {
   "cell_type": "code",
   "execution_count": 26,
   "id": "261d1a4b",
   "metadata": {},
   "outputs": [],
   "source": []
  },
  {
   "cell_type": "code",
   "execution_count": 40,
   "id": "f1298407",
   "metadata": {},
   "outputs": [
    {
     "name": "stdout",
     "output_type": "stream",
     "text": [
      "['Cluster3', 'matrix_ref_key=12', 2, ['GRfam_g32826', 'GRfam_GRg166']]\n"
     ]
    }
   ],
   "source": [
    "# x = {'merged_fam.gff3.temp_matrices.Scaffold_15272_HRSCAF_19649.matrix': [['Cluster1', 'matrix_ref_key=2', 2, ['IRfam_GRg154', 'IRfam_IRg071']]]}\n",
    "x = {'merged_fam.gff3.temp_matrices.Scaffold_15272_HRSCAF_19649.matrix': [['Cluster1', 'matrix_ref_key=2', 2, ['GRfam_GRg154', 'IRfam_IRg071']], ['Cluster3', 'matrix_ref_key=15', 2, ['GRfam_g16077', 'IRfam_g16079']]], 'merged_fam.gff3.temp_matrices.Scaffold_15361_HRSCAF_19822.matrix': [['Cluster1', 'matrix_ref_key=5', 2, ['GRfam_GRg093', 'IRfam_g31848']]], 'merged_fam.gff3.temp_matrices.Scaffold_3225_HRSCAF_3759.matrix': [['Cluster5', 'matrix_ref_key=25', 9, ['IRfam_g18942', 'GRfam_g18960', 'GRfam_g18962', 'GRfam_GRg054', 'GRfam_GRg189', 'GRfam_GRg052', 'GRfam_GRg053', 'GRfam_GRg050', 'GRfam_GRg014']]]}\n",
    "y = ['Cluster3', 'matrix_ref_key=12', 2, ['GRfam_g32826', 'GRfam_GRg166']]\n",
    "def GetNum_of_Fams(idict, i_color1, i_color2, i_opt=\"assign\"):\n",
    "    if i_opt == \"assign\":\n",
    "        # Out dict\n",
    "        D_out = {}\n",
    "\n",
    "        # Get genelist\n",
    "        genelist = []\n",
    "        for k, vinfo in idict.items():\n",
    "            for ii in vinfo:\n",
    "                genelist += ii[-1]\n",
    "\n",
    "        # Infer the number of gene families\n",
    "        genefam_ids = [i.split(\"fam_\")[0] for i in genelist]\n",
    "        genefam_ids = sorted(list(set(genefam_ids)))\n",
    "\n",
    "        if len(genefam_ids) == 2:\n",
    "            # Out dict\n",
    "            D_out[genefam_ids[0]+\"fam_\"] = i_color1\n",
    "            D_out[genefam_ids[1]+\"fam_\"] = i_color2\n",
    "\n",
    "            return D_out\n",
    "        else:\n",
    "            raise ValueError(\"Something is wrong with in 'BetweenFamilies' analysis\")\n",
    "    \n",
    "    elif i_opt == \"getfamname\":\n",
    "        clustered_geneslist = i_elem[-1]\n",
    "        return clustered_geneslist\n",
    "\n",
    "GetNum_of_Fams(x, \"red\", \"blue\", \"assign\")\n",
    "GetNum_of_Fams(y, \"red\", \"blue\", \"getfamname\")"
   ]
  },
  {
   "cell_type": "code",
   "execution_count": 20,
   "id": "3b25d16e",
   "metadata": {},
   "outputs": [
    {
     "data": {
      "text/plain": [
       "['GR',\n",
       " 'IR',\n",
       " 'GR',\n",
       " 'IR',\n",
       " 'GR',\n",
       " 'IR',\n",
       " 'IR',\n",
       " 'GR',\n",
       " 'GR',\n",
       " 'GR',\n",
       " 'GR',\n",
       " 'GR',\n",
       " 'GR',\n",
       " 'GR',\n",
       " 'GR']"
      ]
     },
     "execution_count": 20,
     "metadata": {},
     "output_type": "execute_result"
    }
   ],
   "source": []
  },
  {
   "cell_type": "code",
   "execution_count": null,
   "id": "32886802",
   "metadata": {},
   "outputs": [],
   "source": []
  }
 ],
 "metadata": {
  "kernelspec": {
   "display_name": "Python 3 (ipykernel)",
   "language": "python",
   "name": "python3"
  },
  "language_info": {
   "codemirror_mode": {
    "name": "ipython",
    "version": 3
   },
   "file_extension": ".py",
   "mimetype": "text/x-python",
   "name": "python",
   "nbconvert_exporter": "python",
   "pygments_lexer": "ipython3",
   "version": "3.9.16"
  }
 },
 "nbformat": 4,
 "nbformat_minor": 5
}
