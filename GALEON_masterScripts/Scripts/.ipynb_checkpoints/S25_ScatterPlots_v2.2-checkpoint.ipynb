{
 "cells": [
  {
   "cell_type": "code",
   "execution_count": 1,
   "id": "b3374167",
   "metadata": {},
   "outputs": [],
   "source": [
    "import os, ast, gc, sys\n",
    "import pandas as pd\n",
    "from itertools import combinations\n",
    "import pandas as pd\n",
    "import numpy as np\n",
    "import matplotlib.pylab as plt\n",
    "import seaborn as sns\n",
    "import matplotlib.ticker as mticker\n",
    "from matplotlib.ticker import LogFormatterSciNotation\n",
    "from matplotlib.ticker import MaxNLocator\n"
   ]
  },
  {
   "cell_type": "code",
   "execution_count": 3,
   "id": "35d3de97",
   "metadata": {},
   "outputs": [],
   "source": [
    "''' Input Parameteres '''\n",
    "# input g value\n",
    "g_threshold = 100 # 100 # arg 4\n",
    "# g_threshold = sys.argv[1] # 100 # arg 4\n",
    "g_threshold_shortID = float(g_threshold) / 100"
   ]
  },
  {
   "cell_type": "code",
   "execution_count": 4,
   "id": "8e54a51a",
   "metadata": {},
   "outputs": [],
   "source": [
    "# Family physical matrices dirname\n",
    "FamMatrix_dir = \"GR_fam.gff3_matrices\" # arg 2\n",
    "# FamMatrix_dir = sys.argv[2] # \"GR_fam.gff3_matrices\" # arg 2\n",
    "FamShortID = FamMatrix_dir.split(\"_\")[0]\n",
    "\n",
    "# Path to physical matrices\n",
    "Pmatrices_dir = \"../PhysicalDist_Matrices\" # arg 1\n",
    "# Pmatrices_dir = sys.argv[3] # \"../PhysicalDist_Matrices\" # arg 1\n",
    "\n",
    "# Path to merged distances data\n",
    "MergedDist_dir = \"../MergedDistances_Dataframes\" # arg 3\n",
    "# MergedDist_dir = sys.argv[4] # \"../MergedDistances_Dataframes\" # arg 3\n",
    "FamMergedDistData_dir = f\"{FamShortID}_merged.matrices\" # Dir with files containing both distances\n"
   ]
  },
  {
   "cell_type": "code",
   "execution_count": null,
   "id": "a2ed17c7",
   "metadata": {},
   "outputs": [],
   "source": []
  }
 ],
 "metadata": {
  "kernelspec": {
   "display_name": "Python 3 (ipykernel)",
   "language": "python",
   "name": "python3"
  },
  "language_info": {
   "codemirror_mode": {
    "name": "ipython",
    "version": 3
   },
   "file_extension": ".py",
   "mimetype": "text/x-python",
   "name": "python",
   "nbconvert_exporter": "python",
   "pygments_lexer": "ipython3",
   "version": "3.9.16"
  }
 },
 "nbformat": 4,
 "nbformat_minor": 5
}
